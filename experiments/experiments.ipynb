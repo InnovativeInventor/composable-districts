{
 "cells": [
  {
   "cell_type": "code",
   "execution_count": 1,
   "metadata": {},
   "outputs": [],
   "source": [
    "!pip install geopandas"
   ]
  },
  {
   "cell_type": "code",
   "execution_count": 1,
   "metadata": {},
   "outputs": [],
   "source": [
    "import geopandas"
   ]
  },
  {
   "cell_type": "code",
   "execution_count": 3,
   "metadata": {},
   "outputs": [],
   "source": [
    "data = geopandas.read_file(\"data/openaddresses/us/ma/statewide-addresses-state.geojson\")"
   ]
  },
  {
   "cell_type": "code",
   "execution_count": 4,
   "metadata": {},
   "outputs": [],
   "source": [
    "data.append(geopandas.read_file(\"data/openaddresses/us/ct/statewide-addresses-state.geojson\"))"
   ]
  },
  {
   "cell_type": "code",
   "execution_count": 5,
   "metadata": {},
   "outputs": [],
   "source": [
    "data"
   ]
  },
  {
   "cell_type": "code",
   "execution_count": 2,
   "metadata": {},
   "outputs": [],
   "source": [
    "ma = geopandas.read_file(\"data/openaddresses/us/ma/statewide-addresses-state.geojson\")"
   ]
  },
  {
   "cell_type": "code",
   "execution_count": 7,
   "metadata": {},
   "outputs": [],
   "source": [
    "ma"
   ]
  },
  {
   "cell_type": "code",
   "execution_count": 3,
   "metadata": {},
   "outputs": [],
   "source": [
    "ma_shapefile = geopandas.read_file(\"MA-shapefiles/12_16/MA_precincts_12_16.shp\")"
   ]
  },
  {
   "cell_type": "code",
   "execution_count": 9,
   "metadata": {},
   "outputs": [],
   "source": [
    "ma_shapefile"
   ]
  },
  {
   "cell_type": "code",
   "execution_count": 10,
   "metadata": {},
   "outputs": [],
   "source": [
    "for each_district in ma_shapefile:\n",
    "    for each_point in ma:\n",
    "        if each_district.contains(each_point):\n",
    "            print(\"True\")\n",
    "        else:\n",
    "            print(\"False\")\n",
    "            "
   ]
  },
  {
   "cell_type": "code",
   "execution_count": 11,
   "metadata": {},
   "outputs": [],
   "source": [
    "for each_district in ma_shapefile:\n",
    "    for each_point in ma:\n",
    "        if each_district[\"geometry\"].contains(each_point[\"geometry\"]):\n",
    "            print(\"True\")\n",
    "        else:\n",
    "            print(\"False\")\n",
    "            "
   ]
  },
  {
   "cell_type": "code",
   "execution_count": 12,
   "metadata": {},
   "outputs": [],
   "source": [
    "for each_district in ma_shapefile:\n",
    "    for each_point in ma:\n",
    "        print(each_district)\n",
    "        if each_district[\"geometry\"].contains(each_point[\"geometry\"]):\n",
    "            print(\"True\")\n",
    "        else:\n",
    "            print(\"False\")\n",
    "            "
   ]
  },
  {
   "cell_type": "code",
   "execution_count": 13,
   "metadata": {},
   "outputs": [],
   "source": [
    "for each_district in ma_shapefile.iterrows():\n",
    "    for each_point in ma.iterrows():\n",
    "        print(each_district)\n",
    "        if each_district[\"geometry\"].contains(each_point[\"geometry\"]):\n",
    "            print(\"True\")\n",
    "        else:\n",
    "            print(\"False\")\n",
    "            "
   ]
  },
  {
   "cell_type": "code",
   "execution_count": 14,
   "metadata": {},
   "outputs": [],
   "source": [
    "for district_index, each_district in ma_shapefile.iterrows():\n",
    "    for point_index, each_point in ma.iterrows():\n",
    "        print(each_district)\n",
    "        if each_district[\"geometry\"].contains(each_point[\"geometry\"]):\n",
    "            print(\"True\")\n",
    "        else:\n",
    "            print(\"False\")\n",
    "            "
   ]
  },
  {
   "cell_type": "code",
   "execution_count": 15,
   "metadata": {},
   "outputs": [],
   "source": [
    "for district_index, each_district in ma_shapefile.iterrows():\n",
    "    for point_index, each_point in ma.iterrows():\n",
    "        # print(each_district)\n",
    "        if each_district[\"geometry\"].contains(each_point[\"geometry\"]):\n",
    "            print(\"True\")\n",
    "        else:\n",
    "            print(\"False\")\n",
    "            "
   ]
  },
  {
   "cell_type": "code",
   "execution_count": 16,
   "metadata": {},
   "outputs": [],
   "source": [
    "for district_index, each_district in ma_shapefile.iterrows():\n",
    "    for point_index, each_point in ma.iterrows():\n",
    "        # print(each_district)\n",
    "        if each_district[\"geometry\"].contains(each_point[\"geometry\"]):\n",
    "            print(\"True\")\n",
    "            "
   ]
  },
  {
   "cell_type": "code",
   "execution_count": 17,
   "metadata": {},
   "outputs": [],
   "source": [
    "for district_index, each_district in ma_shapefile.iterrows():\n",
    "    ma_shapefile.loc(district_index, \"addresses\") = []\n",
    "    for point_index, each_point in ma.iterrows():\n",
    "        # print(each_district)\n",
    "        if each_district[\"geometry\"].contains(each_point[\"geometry\"]):\n",
    "            print(\"True\")\n",
    "        ma_shapefile.loc(district_index, \"addresses\").append(each_point)    "
   ]
  },
  {
   "cell_type": "code",
   "execution_count": 18,
   "metadata": {},
   "outputs": [],
   "source": [
    "for district_index, each_district in ma_shapefile.iterrows():\n",
    "    ma_shapefile.loc[district_index, \"addresses\"] = []\n",
    "    for point_index, each_point in ma.iterrows():\n",
    "        # print(each_district)\n",
    "        if each_district[\"geometry\"].contains(each_point[\"geometry\"]):\n",
    "            print(\"True\")\n",
    "        ma_shapefile.loc[district_index, \"addresses\"].append(each_point)\n",
    "        "
   ]
  },
  {
   "cell_type": "code",
   "execution_count": 19,
   "metadata": {},
   "outputs": [],
   "source": [
    "for district_index, each_district in ma_shapefile.iterrows():\n",
    "    ma_shapefile.loc[ma_shapefile.edex == district_index, \"addresses\"] = []\n",
    "    for point_index, each_point in ma.iterrows():\n",
    "        # print(each_district)\n",
    "        if each_district[\"geometry\"].contains(each_point[\"geometry\"]):\n",
    "            print(\"True\")\n",
    "        ma_shapefile.loc[ma_shapefile.index == district_index, \"addresses\"].append(each_point)\n",
    "        "
   ]
  },
  {
   "cell_type": "code",
   "execution_count": 20,
   "metadata": {},
   "outputs": [],
   "source": [
    "ma_shapefile"
   ]
  },
  {
   "cell_type": "code",
   "execution_count": 21,
   "metadata": {},
   "outputs": [],
   "source": [
    "for district_index, each_district in ma_shapefile.iterrows():\n",
    "    ma_shapefile[district_index][\"addresses\"] = []\n",
    "    for point_index, each_point in ma.iterrows():\n",
    "        # print(each_district)\n",
    "        if each_district[\"geometry\"].contains(each_point[\"geometry\"]):\n",
    "            print(\"True\")\n",
    "        ma_shapefile.[district_index][\"addresses\"].append(each_point)"
   ]
  },
  {
   "cell_type": "code",
   "execution_count": 22,
   "metadata": {},
   "outputs": [],
   "source": [
    "for district_index, each_district in ma_shapefile.iterrows():\n",
    "    ma_shapefile[district_index][\"addresses\"] = []\n",
    "    for point_index, each_point in ma.iterrows():\n",
    "        # print(each_district)\n",
    "        if each_district[\"geometry\"].contains(each_point[\"geometry\"]):\n",
    "            print(\"True\")\n",
    "        ma_shapefile[district_index][\"addresses\"].append(each_point)\n",
    "        "
   ]
  },
  {
   "cell_type": "code",
   "execution_count": 23,
   "metadata": {},
   "outputs": [],
   "source": [
    "for district_index, each_district in ma_shapefile.iterrows():\n",
    "    each_district[\"addresses\"] = []\n",
    "    for point_index, each_point in ma.iterrows():\n",
    "        # print(each_district)\n",
    "        if each_district[\"geometry\"].contains(each_point[\"geometry\"]):\n",
    "            print(\"True\")\n",
    "        each_district[\"addresses\"].append(each_point)\n",
    "        "
   ]
  },
  {
   "cell_type": "code",
   "execution_count": 24,
   "metadata": {},
   "outputs": [],
   "source": [
    "for district_index, each_district in ma_shapefile.iterrows():\n",
    "    each_district[\"addresses\"] = []\n",
    "    for point_index, each_point in ma.iterrows():\n",
    "        # print(each_district)\n",
    "        if each_district[\"geometry\"].contains(each_point[\"geometry\"]):\n",
    "            print(\"True\")\n",
    "            each_district[\"addresses\"].append(each_point)\n",
    "            ma.drop(each_point)\n",
    "            "
   ]
  },
  {
   "cell_type": "code",
   "execution_count": 25,
   "metadata": {},
   "outputs": [],
   "source": [
    "ma_shapefile = geopandas.read_file(\"MA-shapefiles/12_16/MA_precincts_12_16.shp\")"
   ]
  },
  {
   "cell_type": "code",
   "execution_count": 26,
   "metadata": {},
   "outputs": [],
   "source": [
    "ma = geopandas.read_file(\"data/openaddresses/us/ma/statewide-addresses-state.geojson\")"
   ]
  },
  {
   "cell_type": "code",
   "execution_count": 27,
   "metadata": {},
   "outputs": [],
   "source": [
    "for district_index, each_district in ma_shapefile.iterrows():\n",
    "    each_district[\"addresses\"] = []\n",
    "    for point_index, each_point in ma.iterrows():\n",
    "        # print(each_district)\n",
    "        if each_district[\"geometry\"].contains(each_point[\"geometry\"]):\n",
    "            print(\"True\")\n",
    "            each_district[\"addresses\"].append(each_point)\n",
    "            ma.drop(each_point)\n",
    "            "
   ]
  },
  {
   "cell_type": "code",
   "execution_count": 28,
   "metadata": {},
   "outputs": [],
   "source": [
    "ma"
   ]
  },
  {
   "cell_type": "code",
   "execution_count": 29,
   "metadata": {},
   "outputs": [],
   "source": [
    "for district_index, each_district in ma_shapefile.iterrows():\n",
    "    each_district[\"addresses\"] = []\n",
    "    for point_index, each_point in ma.iterrows():\n",
    "        # print(each_district)\n",
    "        if each_district[\"geometry\"].contains(each_point[\"geometry\"]):\n",
    "            print(\"True\")\n",
    "            each_district[\"addresses\"].append(each_point)\n",
    "            ma.drop(index=point_index)\n",
    "            print(point_index)\n",
    "            "
   ]
  },
  {
   "cell_type": "code",
   "execution_count": 30,
   "metadata": {},
   "outputs": [],
   "source": [
    "for district_index, each_district in ma_shapefile.iterrows():\n",
    "    each_district[\"addresses\"] = []\n",
    "    size = len(ma)\n",
    "    for point_index, each_point in ma.iterrows():\n",
    "        # print(each_district)\n",
    "        if each_district[\"geometry\"].contains(each_point[\"geometry\"]):\n",
    "            print(\"True\")\n",
    "            each_district[\"addresses\"].append(each_point)\n",
    "            ma.drop(index=point_index)\n",
    "            print(point_index)\n",
    "    assert len(ma) < size\n",
    "    "
   ]
  },
  {
   "cell_type": "code",
   "execution_count": 31,
   "metadata": {},
   "outputs": [],
   "source": [
    "for district_index, each_district in ma_shapefile.iterrows():\n",
    "    each_district[\"addresses\"] = []\n",
    "    size = len(ma)\n",
    "    \n",
    "    drop_points = [] # points to drop\n",
    "    for point_index, each_point in ma.iterrows():\n",
    "        # print(each_district)\n",
    "        if each_district[\"geometry\"].contains(each_point[\"geometry\"]):\n",
    "            print(\"True\")\n",
    "            each_district[\"addresses\"].append(each_point)\n",
    "            drop_points.append(point_index)\n",
    "    ma = ma.drop(labels=drop_points)\n",
    "    assert len(ma) < size\n",
    "    "
   ]
  },
  {
   "cell_type": "code",
   "execution_count": 32,
   "metadata": {},
   "outputs": [],
   "source": [
    "import tqdm"
   ]
  },
  {
   "cell_type": "code",
   "execution_count": 33,
   "metadata": {},
   "outputs": [],
   "source": [
    "for district_index, each_district in ma_shapefile.iterrows():\n",
    "    each_district[\"addresses\"] = []\n",
    "    size = len(ma)\n",
    "    \n",
    "    drop_points = [] # points to drop\n",
    "    for point_index, each_point in tqdm.tqdm(ma.iterrows()):\n",
    "        # print(each_district)\n",
    "        if each_district[\"geometry\"].contains(each_point[\"geometry\"]):\n",
    "            print(\"True\")\n",
    "            each_district[\"addresses\"].append(each_point)\n",
    "            drop_points.append(point_index)\n",
    "    ma = ma.drop(labels=drop_points)\n",
    "    assert len(ma) < size\n",
    "    "
   ]
  },
  {
   "cell_type": "code",
   "execution_count": 34,
   "metadata": {},
   "outputs": [],
   "source": [
    "for district_index, each_district in ma_shapefile.iterrows():\n",
    "    each_district[\"addresses\"] = []\n",
    "    size = len(ma)\n",
    "    \n",
    "    drop_points = [] # points to drop\n",
    "    for point_index, each_point in tqdm.pandas(ma.iterrows()):\n",
    "        # print(each_district)\n",
    "        if each_district[\"geometry\"].contains(each_point[\"geometry\"]):\n",
    "            print(\"True\")\n",
    "            each_district[\"addresses\"].append(each_point)\n",
    "            drop_points.append(point_index)\n",
    "    ma = ma.drop(labels=drop_points)\n",
    "    assert len(ma) < size\n",
    "    "
   ]
  },
  {
   "cell_type": "code",
   "execution_count": 35,
   "metadata": {},
   "outputs": [],
   "source": [
    "for district_index, each_district in ma_shapefile.iterrows():\n",
    "    each_district[\"addresses\"] = []\n",
    "    size = len(ma)\n",
    "    \n",
    "    drop_points = [] # points to drop\n",
    "    for point_index, each_point in tqdm.tqdm(ma.iterrows()):\n",
    "        # print(each_district)\n",
    "        if each_district[\"geometry\"].contains(each_point[\"geometry\"]):\n",
    "            print(\"True\")\n",
    "            each_district[\"addresses\"].append(each_point)\n",
    "            drop_points.append(point_index)\n",
    "    ma = ma.drop(labels=drop_points)\n",
    "    assert len(ma) < size\n",
    "    "
   ]
  },
  {
   "cell_type": "code",
   "execution_count": 36,
   "metadata": {},
   "outputs": [],
   "source": [
    "len(ma)"
   ]
  },
  {
   "cell_type": "code",
   "execution_count": 37,
   "metadata": {},
   "outputs": [],
   "source": [
    "for district_index, each_district in ma_shapefile.iterrows():\n",
    "    each_district[\"addresses\"] = []\n",
    "    size = len(ma)\n",
    "    \n",
    "    drop_points = [] # points to drop\n",
    "    for point_index, each_point in tqdm.tqdm(ma.iterrows(), total=len(ma)):\n",
    "        # print(each_district)\n",
    "        if each_district[\"geometry\"].contains(each_point[\"geometry\"]):\n",
    "            print(\"True\")\n",
    "            each_district[\"addresses\"].append(each_point)\n",
    "            drop_points.append(point_index)\n",
    "    ma = ma.drop(labels=drop_points)\n",
    "    assert len(ma) < size\n",
    "    "
   ]
  },
  {
   "cell_type": "code",
   "execution_count": 38,
   "metadata": {},
   "outputs": [],
   "source": [
    "for district_index, each_district in tqdm.tqdm(ma_shapefile.iterrows(), total=len(ma_shapefile)):\n",
    "    each_district[\"addresses\"] = []\n",
    "    size = len(ma)\n",
    "    \n",
    "    drop_points = [] # points to drop\n",
    "    for point_index, each_point in tqdm.tqdm(ma.iterrows(), total=len(ma)):\n",
    "        # print(each_district)\n",
    "        if each_district[\"geometry\"].contains(each_point[\"geometry\"]):\n",
    "            print(\"True\")\n",
    "            each_district[\"addresses\"].append(each_point)\n",
    "            drop_points.append(point_index)\n",
    "    ma = ma.drop(labels=drop_points)\n",
    "    assert len(ma) < size\n",
    "    "
   ]
  },
  {
   "cell_type": "code",
   "execution_count": 39,
   "metadata": {},
   "outputs": [],
   "source": [
    "for district_index, each_district in tqdm.tqdm(ma_shapefile.iterrows(), total=len(ma_shapefile)):\n",
    "    each_district[\"addresses\"] = []\n",
    "    size = len(ma)\n",
    "    \n",
    "    # drop_points = [] # points to drop\n",
    "    for point_index, each_point in tqdm.tqdm(ma.iterrows(), total=len(ma)):\n",
    "        # print(each_district)\n",
    "        if each_district[\"geometry\"].contains(each_point[\"geometry\"]):\n",
    "            print(\"True\")\n",
    "            each_district[\"addresses\"].append(each_point)\n",
    "            # drop_points.append(point_index)\n",
    "    # ma = ma.drop(labels=drop_points)\n",
    "    # assert len(ma) < size\n",
    "    "
   ]
  },
  {
   "cell_type": "code",
   "execution_count": 40,
   "metadata": {},
   "outputs": [],
   "source": [
    "for district_index, each_district in tqdm.tqdm(ma_shapefile.iterrows(), total=len(ma_shapefile)):\n",
    "    each_district[\"addresses\"] = []\n",
    "    \n",
    "    # drop_points = [] # points to drop\n",
    "    for point_index, each_point in tqdm.tqdm(ma.iterrows(), total=len(ma)):\n",
    "        # print(each_district)\n",
    "        if each_district[\"geometry\"].contains(each_point[\"geometry\"]):\n",
    "            print(\"True\")\n",
    "            each_district[\"addresses\"].append(each_point)\n",
    "            # drop_points.append(point_index)\n",
    "    # ma = ma.drop(labels=drop_points)\n",
    "    # assert len(ma) < size\n",
    "    "
   ]
  },
  {
   "cell_type": "code",
   "execution_count": 41,
   "metadata": {},
   "outputs": [],
   "source": [
    "%notebook -e experiments.py"
   ]
  },
  {
   "cell_type": "code",
   "execution_count": 42,
   "metadata": {},
   "outputs": [],
   "source": [
    "%save -e experiments.py"
   ]
  },
  {
   "cell_type": "code",
   "execution_count": 43,
   "metadata": {},
   "outputs": [],
   "source": [
    "%save experiments.py"
   ]
  },
  {
   "cell_type": "code",
   "execution_count": 44,
   "metadata": {},
   "outputs": [],
   "source": [
    "%notebook -e experiments.py"
   ]
  }
 ],
 "metadata": {
  "kernelspec": {
   "display_name": "Python 3",
   "language": "python",
   "name": "python3"
  },
  "language_info": {
   "codemirror_mode": {
    "name": "ipython",
    "version": 3
   },
   "file_extension": ".py",
   "mimetype": "text/x-python",
   "name": "python",
   "nbconvert_exporter": "python",
   "pygments_lexer": "ipython3",
   "version": "3.8.5"
  }
 },
 "nbformat": 4,
 "nbformat_minor": 4
}
